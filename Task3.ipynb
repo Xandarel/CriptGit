{
  "nbformat": 4,
  "nbformat_minor": 0,
  "metadata": {
    "colab": {
      "name": "Task3.ipynb",
      "provenance": []
    },
    "kernelspec": {
      "name": "python3",
      "display_name": "Python 3"
    },
    "language_info": {
      "name": "python"
    }
  },
  "cells": [
    {
      "cell_type": "code",
      "metadata": {
        "colab": {
          "base_uri": "https://localhost:8080/"
        },
        "id": "JtUOzODVqJ1D",
        "outputId": "a4f8c7cd-cf8a-4059-ab60-2d8fce1b7694"
      },
      "source": [
        "input = '19367831362e3d2b2c353d362c783136783336372f343d3c3f3d7839342f39212b782839212b782c303d783a3d2b2c7831362c3d2a3d2b2c'\n",
        "\n",
        "d = {}\n",
        "\n",
        "for i in range(0, len(input), 2):\n",
        "    if input[i:i+2] not in d.keys():\n",
        "        d[input[i:i+2]] = 1\n",
        "    else:\n",
        "        d[input[i:i+2]] += 1\n",
        "        \n",
        "print(d)"
      ],
      "execution_count": 2,
      "outputs": [
        {
          "output_type": "stream",
          "text": [
            "{'19': 1, '36': 6, '78': 8, '31': 3, '2e': 1, '3d': 8, '2b': 5, '2c': 6, '35': 1, '33': 1, '37': 1, '2f': 2, '34': 2, '3c': 1, '3f': 1, '39': 3, '21': 2, '28': 1, '30': 1, '3a': 1, '2a': 1}\n"
          ],
          "name": "stdout"
        }
      ]
    },
    {
      "cell_type": "code",
      "metadata": {
        "colab": {
          "base_uri": "https://localhost:8080/"
        },
        "id": "yRejkk8LqPcJ",
        "outputId": "e5c2a29a-af73-439d-8022-2603f874ac9d"
      },
      "source": [
        "key_max = 0\n",
        "m = 0\n",
        "\n",
        "for k,v in d.items():\n",
        "    if v > m:\n",
        "        m = v\n",
        "        key_max = k\n",
        "        \n",
        "max_freq = []\n",
        "\n",
        "for k,v in d.items():\n",
        "    if v == m:\n",
        "        max_freq.append(k)\n",
        "        \n",
        "print(max_freq)"
      ],
      "execution_count": 3,
      "outputs": [
        {
          "output_type": "stream",
          "text": [
            "['78', '3d']\n"
          ],
          "name": "stdout"
        }
      ]
    },
    {
      "cell_type": "code",
      "metadata": {
        "id": "_rOEXXq-qYXa"
      },
      "source": [
        "char = \"e\".encode('ascii').hex()"
      ],
      "execution_count": 5,
      "outputs": []
    },
    {
      "cell_type": "code",
      "metadata": {
        "colab": {
          "base_uri": "https://localhost:8080/"
        },
        "id": "4FUF8mT-qZ4O",
        "outputId": "9f4af468-6371-4dee-d6d2-5be58c3e1a5d"
      },
      "source": [
        "keys = [hex(int(char, 16) ^ int(a, 16)) for a in max_freq]\n",
        "keys"
      ],
      "execution_count": 6,
      "outputs": [
        {
          "output_type": "execute_result",
          "data": {
            "text/plain": [
              "['0x1d', '0x58']"
            ]
          },
          "metadata": {
            "tags": []
          },
          "execution_count": 6
        }
      ]
    },
    {
      "cell_type": "code",
      "metadata": {
        "colab": {
          "base_uri": "https://localhost:8080/"
        },
        "id": "52Feh4pNqet6",
        "outputId": "db8e1e53-236d-49cb-9d5f-64e2cd03ae38"
      },
      "source": [
        "bi_inp = [inp[i:i+2] for i in range(0, len(inp), 2)]\n",
        "hex_out = [[chr(int(key, 16) ^ int(a, 16)) for a in bi_inp] for key in keys]\n",
        "\n",
        "for i in range(len(hex_out)):\n",
        "    hex_out[i] = ''.join(hex_out[i])\n",
        "    print(f'{i} - {hex_out[i]}')"
      ],
      "execution_count": 7,
      "outputs": [
        {
          "output_type": "stream",
          "text": [
            "0 - \u0004+e,+3 61( +1e,+e.+*2) !\" e$)2$<6e5$<6e1- e' 61e,+1 7 61\n",
            "1 - An investment in knowledge always pays the best interest\n"
          ],
          "name": "stdout"
        }
      ]
    },
    {
      "cell_type": "code",
      "metadata": {
        "colab": {
          "base_uri": "https://localhost:8080/",
          "height": 36
        },
        "id": "8BtNIFjEqh9k",
        "outputId": "2a044734-7d4b-451f-9b82-743487218711"
      },
      "source": [
        "chr(int('58'))"
      ],
      "execution_count": 9,
      "outputs": [
        {
          "output_type": "execute_result",
          "data": {
            "application/vnd.google.colaboratory.intrinsic+json": {
              "type": "string"
            },
            "text/plain": [
              "':'"
            ]
          },
          "metadata": {
            "tags": []
          },
          "execution_count": 9
        }
      ]
    },
    {
      "cell_type": "code",
      "metadata": {
        "id": "1DUOoeApquE5"
      },
      "source": [
        ""
      ],
      "execution_count": null,
      "outputs": []
    }
  ]
}