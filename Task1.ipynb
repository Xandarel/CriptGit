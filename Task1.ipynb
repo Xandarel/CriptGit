{
  "nbformat": 4,
  "nbformat_minor": 0,
  "metadata": {
    "colab": {
      "name": "Task1.ipynb",
      "provenance": []
    },
    "kernelspec": {
      "name": "python3",
      "display_name": "Python 3"
    },
    "language_info": {
      "name": "python"
    }
  },
  "cells": [
    {
      "cell_type": "code",
      "metadata": {
        "id": "uH8Kzzp1NfbQ"
      },
      "source": [
        "import base64\n",
        "import codecs\n",
        "import binascii\n",
        "\n",
        "input = '49276d207374756479696e672043727970746f677261706879206c696b6520436c6175646520456c776f6f64205368616e6e6f6e21'\n",
        "ansver = 'SSdtIHN0dWR5aW5nIENyeXB0b2dyYXBoeSBsaWtlIENsYXVkZSBFbHdvb2QgU2hhbm5vbiE='\n",
        "bytes_str = bytes.fromhex(input)\n",
        "bytes_encode = base64.b64encode(bytes_str)\n",
        "message = bytes_encode.decode('ascii')"
      ],
      "execution_count": 1,
      "outputs": []
    },
    {
      "cell_type": "code",
      "metadata": {
        "colab": {
          "base_uri": "https://localhost:8080/"
        },
        "id": "ab3_o39RN1kj",
        "outputId": "ec1f0c7f-6624-4162-a53a-bf1449e99269"
      },
      "source": [
        "ansver == message"
      ],
      "execution_count": 3,
      "outputs": [
        {
          "output_type": "execute_result",
          "data": {
            "text/plain": [
              "True"
            ]
          },
          "metadata": {
            "tags": []
          },
          "execution_count": 3
        }
      ]
    },
    {
      "cell_type": "code",
      "metadata": {
        "id": "7p-KPBoHN2zT"
      },
      "source": [
        ""
      ],
      "execution_count": null,
      "outputs": []
    }
  ]
}