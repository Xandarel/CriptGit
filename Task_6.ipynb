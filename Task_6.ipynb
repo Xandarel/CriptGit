{
  "nbformat": 4,
  "nbformat_minor": 0,
  "metadata": {
    "kernelspec": {
      "display_name": "Python 3",
      "language": "python",
      "name": "python3"
    },
    "language_info": {
      "codemirror_mode": {
        "name": "ipython",
        "version": 3
      },
      "file_extension": ".py",
      "mimetype": "text/x-python",
      "name": "python",
      "nbconvert_exporter": "python",
      "pygments_lexer": "ipython3",
      "version": "3.7.6"
    },
    "colab": {
      "name": "Task 6.ipynb",
      "provenance": []
    }
  },
  "cells": [
    {
      "cell_type": "code",
      "metadata": {
        "id": "gecTRz5D-lT_"
      },
      "source": [
        "import os\n",
        "import re"
      ],
      "execution_count": 1,
      "outputs": []
    },
    {
      "cell_type": "code",
      "metadata": {
        "id": "BphiioPwFKV0"
      },
      "source": [
        "text = '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'"
      ],
      "execution_count": 33,
      "outputs": []
    },
    {
      "cell_type": "code",
      "metadata": {
        "id": "3rDEExU_FK0n"
      },
      "source": [
        "def _gramm(n,line):\n",
        "    # line = line.lower()\n",
        "    gram_count = {}\n",
        "    for i in range(0, len(line)-n, n):\n",
        "        if line[i:i+n] not in gram_count.keys():\n",
        "            gram_count[line[i:i+n]] = [i]\n",
        "        else:\n",
        "            gram_count[line[i:i+n]].append(i) \n",
        "\n",
        "    return [{k:v} for k,v in gram_count.items() if len(v) >= 2]"
      ],
      "execution_count": 34,
      "outputs": []
    },
    {
      "cell_type": "code",
      "metadata": {
        "colab": {
          "base_uri": "https://localhost:8080/"
        },
        "id": "mnAzFqjOFNbD",
        "outputId": "8c7a4e97-9f36-4e55-8cee-422d9f243db5"
      },
      "source": [
        "test = _gramm(4, text)\n",
        "test"
      ],
      "execution_count": 36,
      "outputs": [
        {
          "output_type": "execute_result",
          "data": {
            "text/plain": [
              "[{'Tg4K': [280, 992]},\n",
              " {'EUgn': [312, 2072]},\n",
              " {'Jx8L': [520, 1048]},\n",
              " {'GhVU': [944, 2088]},\n",
              " {'TjYK': [1172, 1876]},\n",
              " {'TiYH': [1524, 1612]},\n",
              " {'BwsK': [1900, 2096]}]"
            ]
          },
          "metadata": {
            "tags": []
          },
          "execution_count": 36
        }
      ]
    },
    {
      "cell_type": "code",
      "metadata": {
        "id": "yFf2xsAVFXnn"
      },
      "source": [
        "delta_key = [642, 1760, 372, 528, 1144, 704, 88, 196]  "
      ],
      "execution_count": 37,
      "outputs": []
    },
    {
      "cell_type": "markdown",
      "metadata": {
        "id": "tk8KtBMFFZIP"
      },
      "source": [
        "НОД = 2\n",
        "\n",
        "КЛЮЧ Кратен 2"
      ]
    },
    {
      "cell_type": "code",
      "metadata": {
        "id": "hTK-JTao-lUJ"
      },
      "source": [
        "# Перевод из алфавита base64\n",
        "ALPHABET = 'ABCDEFGHIJKLMNOPQRSTUVWXYZabcdefghijklmnopqrstuvwxyz0123456789+/'\n",
        "to_int = lambda char: ALPHABET.find(char)\n",
        "\n",
        "#разбиение на массивы длины step\n",
        "split_by_step = lambda l, step: [l[index: index+step] for index in range(0, len(l), step)]\n",
        "\n",
        "# Функция склейки битовой карты из массива чисел с округлением битов до value\n",
        "to_bitmap = lambda text, values: ''.join([f\"{char:0{values}b}\" for char in text])\n",
        "\n",
        "# Функция разделяет по count массивам, где каждый элемент добавляется с шагом count\n",
        "split_on_count = lambda l, count: [l[index-1::count] for index in range(1, count+1)]\n",
        "\n",
        "# Регулярное выражение для символов\n",
        "symbols_finder_re = re.compile(\"[^a-zA-Z0-9?!\\-_.,:;'\\n\\t\\v ]\")"
      ],
      "execution_count": 2,
      "outputs": []
    },
    {
      "cell_type": "code",
      "metadata": {
        "colab": {
          "base_uri": "https://localhost:8080/"
        },
        "id": "oOJ94tlX-lUP",
        "outputId": "2ed05c88-67d2-4fa4-db3d-e0623bae3193"
      },
      "source": [
        "split_on_count('123456789', 5) ## проверка функции"
      ],
      "execution_count": 3,
      "outputs": [
        {
          "output_type": "execute_result",
          "data": {
            "text/plain": [
              "['16', '27', '38', '49', '5']"
            ]
          },
          "metadata": {
            "tags": []
          },
          "execution_count": 3
        }
      ]
    },
    {
      "cell_type": "code",
      "metadata": {
        "id": "4KjAPbF1-lUT"
      },
      "source": [
        "def decode_base64(data):\n",
        "    # Переводим из base64\n",
        "    added_chars = data.count('=')\n",
        "    clean_data = data[:-added_chars]\n",
        "    codes = [to_int(char) for char in clean_data if char != '=']\n",
        "    bitmap = to_bitmap(codes, 6)\n",
        "    bitmap = bitmap[:(-added_chars) * 2]\n",
        "    char_bytes = split_by_step(bitmap, 8)\n",
        "    # Переводим в числа для XOR'а\n",
        "    int_hex = [int(bits, 2) for bits in char_bytes]\n",
        "    return int_hex"
      ],
      "execution_count": 4,
      "outputs": []
    },
    {
      "cell_type": "code",
      "metadata": {
        "id": "IXRaMzaA-lUU"
      },
      "source": [
        "def decode_message(text, key, return_symbols=False):\n",
        "    # Дополняем ключ до размера сообщения и все xor-им\n",
        "    if isinstance(key, str):\n",
        "        keys = [ord(k) for k in key]\n",
        "    elif not isinstance(key, list):\n",
        "        keys = [key]\n",
        "    else:\n",
        "        keys = key\n",
        "\n",
        "    length_input = len(text)\n",
        "    \n",
        "    div_length = length_input // len(keys)\n",
        "    mod_length = length_input % len(keys)\n",
        "\n",
        "    key_bits_all_length = keys * div_length + keys[:mod_length]\n",
        "    x_o_r = [text[index] ^ key_bits_all_length[index] for index in range(length_input)]\n",
        "\n",
        "    if return_symbols:\n",
        "        return ''.join([chr(c) for c in x_o_r])\n",
        "    else:\n",
        "        return x_o_r"
      ],
      "execution_count": 5,
      "outputs": []
    },
    {
      "cell_type": "code",
      "metadata": {
        "id": "v7d0hrR8-lUX"
      },
      "source": [
        "def decrypt_string(text):\n",
        "    # Подбираем символ для ключа из диапазона до 128-го ASCI\n",
        "    ascii_codes = list(range(0, 128))\n",
        "    results = list()\n",
        "    for key in ascii_codes:\n",
        "        decoded = decode_message(text, key, return_symbols=True)\n",
        "        checked_str = re.sub(symbols_finder_re, '', decoded)\n",
        "        if len(checked_str) == len(text):\n",
        "            results.append(key)\n",
        "    return results"
      ],
      "execution_count": 6,
      "outputs": []
    },
    {
      "cell_type": "code",
      "metadata": {
        "id": "fRXjdZlv-lUZ"
      },
      "source": [
        "decoded_files = list()\n",
        "files = [file for file in os.listdir('.') if file.startswith('task16') and file.endswith('.input')]\n",
        "\n",
        "for file in files:\n",
        "    with open(file, 'r') as f:\n",
        "        input_data = f.read()\n",
        "        input_data = input_data.replace('\\n', '')\n",
        "\n",
        "    int_hex = decode_base64(input_data)\n",
        "    \n",
        "    key_length = 2\n",
        "    while True:\n",
        "        splitted_data = split_on_count(int_hex, key_length)\n",
        "\n",
        "        keys = list()\n",
        "        for data in splitted_data:\n",
        "            res = decrypt_string(data)\n",
        "            if res:\n",
        "                keys.append(res)\n",
        "            else:\n",
        "                break\n",
        "\n",
        "        if len(keys) == key_length:\n",
        "            key = ''.join([chr(k[0]) for k in keys])\n",
        "            message = decode_message(int_hex, key, return_symbols=True)\n",
        "            decoded_files.append((file, key, message))\n",
        "            break\n",
        "\n",
        "        key_length += 2        \n",
        "        if key_length == len(int_hex) // 10:\n",
        "            print('Перебор ключей закончен')\n",
        "            break"
      ],
      "execution_count": 19,
      "outputs": []
    },
    {
      "cell_type": "code",
      "metadata": {
        "id": "ZaV1WfNa-lUd"
      },
      "source": [
        "file, key, message = decoded_files[0]\n",
        "print(f\"Файл: {file}\")\n",
        "print(f\"Ключ: {key}\")\n",
        "print()\n",
        "print(f\"Сообщение: {message}\")"
      ],
      "execution_count": null,
      "outputs": []
    },
    {
      "cell_type": "code",
      "metadata": {
        "colab": {
          "base_uri": "https://localhost:8080/"
        },
        "id": "eXgM2aYQEoim",
        "outputId": "4e1e9130-5370-4cbc-a2dd-84f8d5104c8a"
      },
      "source": [
        "int_hex[2]"
      ],
      "execution_count": 29,
      "outputs": [
        {
          "output_type": "execute_result",
          "data": {
            "text/plain": [
              "21"
            ]
          },
          "metadata": {
            "tags": []
          },
          "execution_count": 29
        }
      ]
    },
    {
      "cell_type": "code",
      "metadata": {
        "id": "82kssAX7EwbX"
      },
      "source": [
        "decrypt_string(data)"
      ],
      "execution_count": null,
      "outputs": []
    }
  ]
}