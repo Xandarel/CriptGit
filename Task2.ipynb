{
  "nbformat": 4,
  "nbformat_minor": 0,
  "metadata": {
    "colab": {
      "name": "Task2.ipynb",
      "provenance": []
    },
    "kernelspec": {
      "name": "python3",
      "display_name": "Python 3"
    },
    "language_info": {
      "name": "python"
    }
  },
  "cells": [
    {
      "cell_type": "code",
      "metadata": {
        "colab": {
          "base_uri": "https://localhost:8080/"
        },
        "id": "DAuZbJnVOGzj",
        "outputId": "64cb4f26-747d-4fcf-f459-de85528b0a8f"
      },
      "source": [
        "i1 = '506561636520416c6c204f7665722054686520576f726c64'\n",
        "i2 = '4949544353551c0111001f010100061a021f010100061a02'\n",
        "o = '192C352036755D6D7D2050776472264E6A7A21566F747666'\n",
        "answer = hex(int(i1, 16) ^ int(i2, 16)).upper()[2:]\n",
        "answer == o"
      ],
      "execution_count": 2,
      "outputs": [
        {
          "output_type": "execute_result",
          "data": {
            "text/plain": [
              "True"
            ]
          },
          "metadata": {
            "tags": []
          },
          "execution_count": 2
        }
      ]
    },
    {
      "cell_type": "code",
      "metadata": {
        "id": "0MYrRmY7Rl4y"
      },
      "source": [
        ""
      ],
      "execution_count": null,
      "outputs": []
    }
  ]
}